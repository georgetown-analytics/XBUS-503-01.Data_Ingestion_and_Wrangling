{
 "cells": [
  {
   "cell_type": "markdown",
   "metadata": {},
   "source": [
    "...welcome back!\n",
    "\n",
    "\n",
    "# TITANIC Part II\n",
    "\n",
    "## Machine Learning from Disaster: Introduction to Scikit-Learn"
   ]
  },
  {
   "cell_type": "code",
   "execution_count": null,
   "metadata": {},
   "outputs": [],
   "source": [
    "import pandas as pd\n",
    "import numpy as np\n",
    "import matplotlib.pyplot as plt\n",
    "import pandas.io.sql as pd_sql\n",
    "import sqlite3 as sql\n",
    "\n",
    "%matplotlib inline"
   ]
  },
  {
   "cell_type": "code",
   "execution_count": null,
   "metadata": {},
   "outputs": [],
   "source": [
    "# re-establish database connection\n",
    "con = sql.connect(\"titanic.db\") "
   ]
  },
  {
   "cell_type": "code",
   "execution_count": null,
   "metadata": {},
   "outputs": [],
   "source": [
    "# figure out the name of the table you saved your data to\n",
    "\n",
    "cursor = con.cursor()\n",
    "cursor.execute(\"SELECT name FROM sqlite_master WHERE type='table';\")\n",
    "print(cursor.fetchall())"
   ]
  },
  {
   "cell_type": "code",
   "execution_count": null,
   "metadata": {},
   "outputs": [],
   "source": [
    "# extract everything from the 'training_data' table (or whatever you called it) into a dataframe\n",
    "train = pd_sql.read_sql('select * from titanic', con, index_col='index').reset_index()"
   ]
  },
  {
   "cell_type": "code",
   "execution_count": null,
   "metadata": {},
   "outputs": [],
   "source": [
    "#Is it all still here?\n",
    "train.head(5)"
   ]
  },
  {
   "cell_type": "markdown",
   "metadata": {},
   "source": [
    "### Creating a Model: A Naive Approach    \n",
    "\n",
    "Let's start by creating a model that predicts purely based on gender"
   ]
  },
  {
   "cell_type": "code",
   "execution_count": null,
   "metadata": {},
   "outputs": [],
   "source": [
    "# Set some variables\n",
    "number_passengers = train.shape[0] \n",
    "number_survived = len(train[train.Survived == 1])\n",
    "\n",
    "# What proportion of the passengers survived?\n",
    "proportion_survived = float(number_survived) / number_passengers\n",
    "print('The proportion of passengers who survived is %s.' % proportion_survived)"
   ]
  },
  {
   "cell_type": "code",
   "execution_count": null,
   "metadata": {},
   "outputs": [],
   "source": [
    "# How can we determine what proportion of the women and of the men who survived?\n",
    "# Let's start by segregating the men and women\n",
    "women = train[train.Sex == \"female\"]\n",
    "men = train[train.Sex != \"female\"]\n",
    "\n",
    "# Determine the proportion of women who survived\n",
    "proportion_women_survived = float(len(women[women.Survived == 1])) / len(women)\n",
    "print('The proportion of women who survived is %s.' % proportion_women_survived)\n",
    "\n",
    "# Determine the proportion of men who survived\n",
    "proportion_men_survived = float(len(men[men.Survived == 1])) / len(men)\n",
    "print('The proportion of men who survived is %s.' % proportion_men_survived)"
   ]
  },
  {
   "cell_type": "markdown",
   "metadata": {},
   "source": [
    "So we know that women were MUCH more likely to survive, and we could just say that our model is:\n",
    "- if female => survived = 1\n",
    "- if male => survived = 0\n",
    "\n",
    "But that means our predictions are going to be wrong sometimes -- for about a quarter of the women and a fifth of the men. Let's use the Python library Scikit-learn to see if we can do a little better!\n",
    "\n",
    "## Using Scikit-learn\n",
    "\n",
    "Scikit-Learn is a powerful machine learning library implemented in Python with numeric and scientific computing powerhouses Numpy, Scipy, and matplotlib for extremely fast analysis of small to medium-sized data sets. It is open source, commercially usable and contains many modern machine learning algorithms for classification, regression, clustering, feature extraction, and optimization. For this reason Scikit-Learn is often the first tool in a data scientist's toolkit for machine learning of incoming data sets.\n",
    "\n",
    "Scikit-learn will expect numeric values and no blanks, so first we need to do a bit more wrangling."
   ]
  },
  {
   "cell_type": "code",
   "execution_count": null,
   "metadata": {},
   "outputs": [],
   "source": [
    "# 'Sex' is stored as a text value. We should convert (or 'map') it into numeric binaries \n",
    "# so it will be ready for scikit-learn.\n",
    "train['Sex'] = train['Sex'].map({'male': 0,'female': 1})"
   ]
  },
  {
   "cell_type": "code",
   "execution_count": null,
   "metadata": {},
   "outputs": [],
   "source": [
    "# Scikit-learn won't be tolerant of the missing values. In the last class, we dropped\n",
    "# the 'Ticket' column. Let's also drop the 'Cabin' and 'Embarked' columns\n",
    "train = train.drop(['Cabin'], axis=1)\n",
    "train = train.drop(['Embarked'], axis=1)"
   ]
  },
  {
   "cell_type": "code",
   "execution_count": null,
   "metadata": {},
   "outputs": [],
   "source": [
    "# Let's also drop the 'Name' column for now (though I can think of some interesting \n",
    "# data that might be embedded in those salutations...)\n",
    "train = train.drop(['Name'], axis=1)"
   ]
  },
  {
   "cell_type": "code",
   "execution_count": null,
   "metadata": {},
   "outputs": [],
   "source": [
    "train.head()"
   ]
  },
  {
   "cell_type": "markdown",
   "metadata": {},
   "source": [
    "Ok, we've got a table of purely numeric data with no null values. We're ready to go."
   ]
  },
  {
   "cell_type": "markdown",
   "metadata": {},
   "source": [
    "### LOGISTIC REGRESSION\n",
    "\n",
    "A logistic regression mathematically calculates the decision boundary between the possibilities. It looks for a straight line that represents a cutoff that most accurately represents the training data."
   ]
  },
  {
   "cell_type": "code",
   "execution_count": null,
   "metadata": {},
   "outputs": [],
   "source": [
    "from sklearn.linear_model import LogisticRegression"
   ]
  },
  {
   "cell_type": "code",
   "execution_count": null,
   "metadata": {},
   "outputs": [],
   "source": [
    "# Load the test data\n",
    "test = pd.read_csv(\"../titanic/data/test.csv\") \n",
    "test[\"Age\"] = test[\"Age\"].fillna(train[\"Age\"].median())\n",
    "\n",
    "test.loc[test[\"Sex\"] == \"male\", \"Sex\"] = 0\n",
    "test.loc[test[\"Sex\"] == \"female\", \"Sex\"] = 1\n",
    "\n",
    "test = test.drop(['Cabin'], axis=1)\n",
    "test = test.drop(['Embarked'], axis=1)\n",
    "test = test.drop(['Name'], axis=1)\n",
    "test = test.drop(['Ticket'], axis=1)"
   ]
  },
  {
   "cell_type": "code",
   "execution_count": null,
   "metadata": {},
   "outputs": [],
   "source": [
    "# Initialize our algorithm\n",
    "lr = LogisticRegression(random_state=1)"
   ]
  },
  {
   "cell_type": "code",
   "execution_count": null,
   "metadata": {},
   "outputs": [],
   "source": [
    "# Define our predictors\n",
    "predictors = [\"Pclass\", \"Sex\", \"Age\", \"SibSp\"]\n",
    "expected  = train[\"Survived\"]\n",
    "\n",
    "# Train the algorithm using all the training data\n",
    "lr.fit(train[predictors], expected)\n",
    "\n",
    "# Make predictions using the training set -- where we already know the correct answers\n",
    "predicted = lr.predict(train[predictors])"
   ]
  },
  {
   "cell_type": "code",
   "execution_count": null,
   "metadata": {},
   "outputs": [],
   "source": [
    "# Make predictions based on the test data\n",
    "predictions = lr.predict(test[predictors])\n",
    "\n",
    "# Frame your submission for Kaggle\n",
    "test_predictions = pd.DataFrame({\n",
    "        \"PassengerId\": test[\"PassengerId\"],\n",
    "        \"Survived\": predictions\n",
    "    })\n",
    "test_predictions.head(10)"
   ]
  },
  {
   "cell_type": "markdown",
   "metadata": {},
   "source": [
    "Well that was easy! But how can we find out how well it worked?\n",
    "\n",
    "### Cross-Validation   \n",
    "\n",
    "For Kaggle, the training samples are constructed by splitting our original dataset into more than one part. But what if certain chunks of our data have more variance than others? We want to ensure that our model performs just as well regardless of the particular way the data are divided up. So let's go back and do some cross-validation splits.    \n",
    "\n",
    "More on cross-validation tools inside Scikit-learn here:    \n",
    "http://scikit-learn.org/stable/modules/generated/sklearn.cross_validation.train_test_split.html"
   ]
  },
  {
   "cell_type": "code",
   "execution_count": null,
   "metadata": {},
   "outputs": [],
   "source": [
    "from sklearn.model_selection import cross_val_score\n",
    "from sklearn.model_selection import train_test_split"
   ]
  },
  {
   "cell_type": "code",
   "execution_count": null,
   "metadata": {},
   "outputs": [],
   "source": [
    "X = train[[\"Pclass\", \"Sex\", \"Age\", \"SibSp\"]]\n",
    "y = train[\"Survived\"]\n",
    "X_train, X_test, y_train, y_test = train_test_split(X,y,test_size = 0.2)\n",
    "log_reg = lr.fit(X_train, y_train)"
   ]
  },
  {
   "cell_type": "code",
   "execution_count": null,
   "metadata": {},
   "outputs": [],
   "source": [
    "# Every estimator has a score method that can judge the quality of the \n",
    "# fit (or the prediction) on new data. Bigger is better.   \n",
    "log_reg.score(X_test, y_test)"
   ]
  },
  {
   "cell_type": "markdown",
   "metadata": {},
   "source": [
    "We can also ask for a classification report."
   ]
  },
  {
   "cell_type": "code",
   "execution_count": null,
   "metadata": {},
   "outputs": [],
   "source": [
    "from sklearn.metrics import classification_report"
   ]
  },
  {
   "cell_type": "code",
   "execution_count": null,
   "metadata": {},
   "outputs": [],
   "source": [
    "expected   = y_test\n",
    "predicted  = log_reg.predict(X_test)\n",
    "classificationReport = classification_report(expected, predicted, target_names=[\"Perished\",\"Survived\"])\n",
    "print(classificationReport)"
   ]
  },
  {
   "cell_type": "markdown",
   "metadata": {},
   "source": [
    "How do I interpret this report?\n",
    "    \n",
    "Precision is the number of correct positive results divided by the number of all positive results (e.g. how many of the passengers we predicted would survive actually did survive?).\n",
    "\n",
    "Recall is the number of correct positive results divided by the number of positive results that should have been returned (e.g. how many of the passengers who did survive did we accurately predict would survive?). \n",
    "\n",
    "The F1 score is a measure of a test's accuracy. It considers both the precision and the recall of the test to compute the score. The F1 score can be interpreted as a weighted average of the precision and recall, where an F1 score reaches its best value at 1 and worst at 0.    \n",
    "\n",
    "    precision = true positives / (true positives + false positives)\n",
    "\n",
    "    recall = true positives / (false negatives + true positives)\n",
    "\n",
    "    F1 score = 2 * ((precision * recall) / (precision + recall))\n",
    "    \n",
    "So how well did our Logistic Regression Model do?    "
   ]
  },
  {
   "cell_type": "code",
   "execution_count": null,
   "metadata": {},
   "outputs": [],
   "source": [
    "# Make predictions based on the test data\n",
    "predictions = log_reg.predict(test[predictors])\n",
    "\n",
    "# Frame your 2nd submission to Kaggle\n",
    "kgl_submission_lr = pd.DataFrame({\n",
    "        \"PassengerId\": test[\"PassengerId\"],\n",
    "        \"Survived\": predictions\n",
    "    })\n",
    "kgl_submission_lr.to_csv('lr_model.csv', index=False)"
   ]
  },
  {
   "cell_type": "markdown",
   "metadata": {},
   "source": [
    "### RANDOM FOREST    \n",
    "\n",
    "Some models will work better than others! Let's try another one.    \n",
    "\n",
    "A random forest is a 'meta estimator'. It will fit a number of decision trees (we'll have to tell it how many) on various sub-samples of the dataset. Then it will use averaging to improve the predictive accuracy and control over-fitting.    \n",
    "\n",
    "Read more about Random Forests here:    \n",
    "http://scikit-learn.org/stable/modules/generated/sklearn.ensemble.RandomForestClassifier.html"
   ]
  },
  {
   "cell_type": "code",
   "execution_count": null,
   "metadata": {},
   "outputs": [],
   "source": [
    "from sklearn.ensemble import RandomForestClassifier"
   ]
  },
  {
   "cell_type": "code",
   "execution_count": null,
   "metadata": {},
   "outputs": [],
   "source": [
    "# We'll select 50 trees and opt for 'out-of-bag' samples to estimate the generalization error.\n",
    "rf = RandomForestClassifier(n_estimators=50, oob_score=True) "
   ]
  },
  {
   "cell_type": "code",
   "execution_count": null,
   "metadata": {},
   "outputs": [],
   "source": [
    "# Next split up the data with the 'train test split' method in the Cross Validation module\n",
    "X_train, X_test, y_train, y_test = train_test_split(X,y, test_size=0.2)\n",
    "\n",
    "# ...and then run the 'fit' method to build a forest of trees\n",
    "rf.fit(X_train, y_train)"
   ]
  },
  {
   "cell_type": "code",
   "execution_count": null,
   "metadata": {},
   "outputs": [],
   "source": [
    "rf.score(X_test, y_test)"
   ]
  },
  {
   "cell_type": "code",
   "execution_count": null,
   "metadata": {},
   "outputs": [],
   "source": [
    "expected   = y_test\n",
    "predicted  = rf.predict(X_test)\n",
    "classificationReport = classification_report(expected, predicted, target_names=[\"Perished\",\"Survived\"])\n",
    "print(classificationReport)"
   ]
  },
  {
   "cell_type": "markdown",
   "metadata": {},
   "source": [
    "So how did we do with our Random Forest Classifier? Sometimes visualizations can\n",
    "help us to interpret our results. Here is a function that will take our classification\n",
    "report and create a color-coded heat map that tells us where our model is strong (deep\n",
    "reds) and/or weak (lighter pinks)."
   ]
  },
  {
   "cell_type": "code",
   "execution_count": null,
   "metadata": {},
   "outputs": [],
   "source": [
    "def plot_classification_report(cr, title='Classification report', cmap=plt.cm.Reds):\n",
    "\n",
    "    lines = cr.split('\\n')\n",
    "    classes = []\n",
    "    plotMat = []\n",
    "\n",
    "    for line in lines[2 : (len(lines) - 5)]:\n",
    "        t = line.split()\n",
    "        classes.append(t[0])\n",
    "        v = [float(x) for x in t[1: len(t) - 1]]\n",
    "        plotMat.append(v)\n",
    "\n",
    "    fig, ax = plt.subplots(figsize=(10,5))\n",
    "    fig = plt.imshow(plotMat, interpolation='nearest', cmap=cmap)\n",
    "    \n",
    "    for c in range(len(plotMat)+1):\n",
    "        for r in range(len(classes)):\n",
    "            try:\n",
    "                txt = plotMat[r][c]\n",
    "                ax.text(c,r,plotMat[r][c],va='center',ha='center')\n",
    "            except IndexError:\n",
    "                pass\n",
    "            \n",
    "    plt.title(title)\n",
    "    plt.colorbar()\n",
    "    x_tick_marks = np.arange(3)\n",
    "    y_tick_marks = np.arange(len(classes)-1)\n",
    "    plt.xticks(x_tick_marks, ['precision', 'recall', 'f1-score'], rotation=45)\n",
    "        \n",
    "    plt.yticks(y_tick_marks, classes)\n",
    "   \n",
    "    plt.tight_layout()\n",
    "    plt.ylabel('Classes')\n",
    "    plt.xlabel('Measures')"
   ]
  },
  {
   "cell_type": "code",
   "execution_count": null,
   "metadata": {},
   "outputs": [],
   "source": [
    "plot_classification_report(classificationReport)"
   ]
  },
  {
   "cell_type": "code",
   "execution_count": null,
   "metadata": {},
   "outputs": [],
   "source": [
    "# Make predictions based on the test data\n",
    "predictions = rf.predict(test[predictors])\n",
    "\n",
    "# Frame your 3rd submission to Kaggle\n",
    "kgl_submission_rf = pd.DataFrame({\n",
    "        \"PassengerId\": test[\"PassengerId\"],\n",
    "        \"Survived\": predictions\n",
    "    })\n",
    "kgl_submission_rf.to_csv('rf_model.csv', index=False)"
   ]
  },
  {
   "cell_type": "markdown",
   "metadata": {},
   "source": [
    "### SVM    \n",
    "\n",
    "Support vector machines use points in transformed problem space to separate the classes into groups."
   ]
  },
  {
   "cell_type": "code",
   "execution_count": null,
   "metadata": {},
   "outputs": [],
   "source": [
    "from sklearn.svm import SVC"
   ]
  },
  {
   "cell_type": "code",
   "execution_count": null,
   "metadata": {},
   "outputs": [],
   "source": [
    "kernels = ['linear', 'poly', 'rbf']\n",
    "\n",
    "splits = train_test_split(X,y, test_size=0.2)\n",
    "X_train, X_test, y_train, y_test = splits\n",
    "\n",
    "for kernel in kernels:\n",
    "    if kernel != 'poly':\n",
    "        model      = SVC(kernel=kernel)\n",
    "    else:\n",
    "        model      = SVC(kernel=kernel, degree=3)\n",
    "\n",
    "model.fit(X_train, y_train)\n",
    "expected   = y_test\n",
    "predicted  = model.predict(X_test)\n",
    "\n",
    "SVC_report = classification_report(expected, predicted)"
   ]
  },
  {
   "cell_type": "code",
   "execution_count": null,
   "metadata": {},
   "outputs": [],
   "source": [
    "plot_classification_report(SVC_report)"
   ]
  },
  {
   "cell_type": "code",
   "execution_count": null,
   "metadata": {},
   "outputs": [],
   "source": [
    "from sklearn.metrics import precision_recall_curve\n",
    "precision, recall, thresholds = precision_recall_curve(y_test, predicted)  \n",
    "decision_threshold = np.append(thresholds, 1)\n",
    "\n",
    "plt.plot(decision_threshold, precision, color='red')  \n",
    "plt.plot(decision_threshold, recall, color='blue')  \n",
    "leg = plt.legend(('precision', 'recall'), frameon=True)  \n",
    "leg.get_frame().set_edgecolor('k')  \n",
    "plt.xlabel('decision_threshold')  \n",
    "plt.ylabel('%')  \n",
    "plt.show"
   ]
  },
  {
   "cell_type": "code",
   "execution_count": null,
   "metadata": {},
   "outputs": [],
   "source": [
    "# Make predictions based on the test data\n",
    "predictions = model.predict(test[predictors])\n",
    "\n",
    "# Frame your 4th submission to Kaggle\n",
    "kgl_submission_svm = pd.DataFrame({\n",
    "        \"PassengerId\": test[\"PassengerId\"],\n",
    "        \"Survived\": predictions\n",
    "    })\n",
    "kgl_submission_svm.to_csv('svm_model.csv', index=False)"
   ]
  },
  {
   "cell_type": "markdown",
   "metadata": {},
   "source": [
    "So of the four methods - our naive model, as well as Logistic Regression, Random Forest, and SVM, which one performed the best on this data set?"
   ]
  },
  {
   "cell_type": "markdown",
   "metadata": {},
   "source": [
    "### Resources and Further Reading    \n",
    "\n",
    "This tutorial is based on the Kaggle Competition, \"Predicting Survival Aboard the Titanic\"    \n",
    "https://www.kaggle.com/c/titanic    \n",
    "\n",
    "As well as the following tutorials:    \n",
    "https://www.kaggle.com/mlchang/titanic/logistic-model-using-scikit-learn/run/91385    \n",
    "https://www.kaggle.com/c/titanic/details/getting-started-with-random-forests    \n",
    "https://github.com/savarin/pyconuk-introtutorial/tree/master/notebooks    \n",
    "\n",
    "See also:    \n",
    "http://scikit-learn.org/stable/modules/generated/sklearn.linear_model.LinearRegression.html    \n",
    "http://scikit-learn.org/stable/modules/generated/sklearn.cross_validation.train_test_split.html    \n",
    "http://scikit-learn.org/stable/modules/generated/sklearn.ensemble.RandomForestClassifier.html    \n",
    "http://scikit-learn.org/stable/modules/svm.html      "
   ]
  }
 ],
 "metadata": {
  "kernelspec": {
   "display_name": "Python 3",
   "language": "python",
   "name": "python3"
  },
  "language_info": {
   "codemirror_mode": {
    "name": "ipython",
    "version": 3
   },
   "file_extension": ".py",
   "mimetype": "text/x-python",
   "name": "python",
   "nbconvert_exporter": "python",
   "pygments_lexer": "ipython3",
   "version": "3.7.1"
  }
 },
 "nbformat": 4,
 "nbformat_minor": 1
}
